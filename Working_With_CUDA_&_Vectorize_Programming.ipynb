{
  "nbformat": 4,
  "nbformat_minor": 0,
  "metadata": {
    "colab": {
      "provenance": [],
      "gpuType": "T4",
      "authorship_tag": "ABX9TyOI2dJ4pPhCvkx1P/wXQshl",
      "include_colab_link": true
    },
    "kernelspec": {
      "name": "python3",
      "display_name": "Python 3"
    },
    "language_info": {
      "name": "python"
    },
    "accelerator": "GPU"
  },
  "cells": [
    {
      "cell_type": "markdown",
      "metadata": {
        "id": "view-in-github",
        "colab_type": "text"
      },
      "source": [
        "<a href=\"https://colab.research.google.com/github/epsit03/working-with-nvidia-cuda/blob/main/Working_With_CUDA_%26_Vectorize_Programming.ipynb\" target=\"_parent\"><img src=\"https://colab.research.google.com/assets/colab-badge.svg\" alt=\"Open In Colab\"/></a>"
      ]
    },
    {
      "cell_type": "code",
      "execution_count": 2,
      "metadata": {
        "colab": {
          "base_uri": "https://localhost:8080/"
        },
        "id": "VTbVi8ipNqm4",
        "outputId": "5fa2e656-453d-41e6-da04-b1e9f9f0994e"
      },
      "outputs": [
        {
          "output_type": "stream",
          "name": "stdout",
          "text": [
            "c[:6] =[1. 1. 1. 1. 1. 1.]\n",
            "c[:-6] =[1. 1. 1. ... 1. 1. 1.]\n",
            "This vector multiplication took 29.549026 seconds\n"
          ]
        }
      ],
      "source": [
        "import numpy as np\n",
        "from timeit import default_timer as timer\n",
        "\n",
        "def multiplyVec(a,b,c):\n",
        "  for i in range(a.size):\n",
        "    c[i] = a[i] * b[i]\n",
        "\n",
        "def main():\n",
        "  n = 64000000 #size per declared array\n",
        "\n",
        "  a = np.ones(n, dtype = np.float32)\n",
        "  b = np.ones(n, dtype = np.float32)\n",
        "  c = np.ones(n, dtype = np.float32)\n",
        "\n",
        "  start = timer()\n",
        "  multiplyVec(a,b,c)\n",
        "  vecMulTime = timer() - start\n",
        "\n",
        "  print(\"c[:6] =\" + str(c[:6]))\n",
        "  print(\"c[:-6] =\" + str(c[:-6]))\n",
        "\n",
        "  print(\"This vector multiplication took %f seconds\" %vecMulTime)\n",
        "\n",
        "main()"
      ]
    },
    {
      "cell_type": "code",
      "source": [
        "!pip install numba"
      ],
      "metadata": {
        "colab": {
          "base_uri": "https://localhost:8080/"
        },
        "id": "7_jH_HHORK4q",
        "outputId": "af93cae3-a5bb-4808-cb20-c106bbb48892"
      },
      "execution_count": 4,
      "outputs": [
        {
          "output_type": "stream",
          "name": "stdout",
          "text": [
            "Requirement already satisfied: numba in /usr/local/lib/python3.10/dist-packages (0.56.4)\n",
            "Requirement already satisfied: llvmlite<0.40,>=0.39.0dev0 in /usr/local/lib/python3.10/dist-packages (from numba) (0.39.1)\n",
            "Requirement already satisfied: numpy<1.24,>=1.18 in /usr/local/lib/python3.10/dist-packages (from numba) (1.23.5)\n",
            "Requirement already satisfied: setuptools in /usr/local/lib/python3.10/dist-packages (from numba) (67.7.2)\n"
          ]
        }
      ]
    },
    {
      "cell_type": "code",
      "source": [
        "!nvidia-smi"
      ],
      "metadata": {
        "colab": {
          "base_uri": "https://localhost:8080/"
        },
        "id": "Nyf4vEMiRnZw",
        "outputId": "db5a3fed-1022-4e8b-9e0f-5181fbc92d9a"
      },
      "execution_count": 1,
      "outputs": [
        {
          "output_type": "stream",
          "name": "stdout",
          "text": [
            "Thu Oct  5 00:40:24 2023       \n",
            "+-----------------------------------------------------------------------------+\n",
            "| NVIDIA-SMI 525.105.17   Driver Version: 525.105.17   CUDA Version: 12.0     |\n",
            "|-------------------------------+----------------------+----------------------+\n",
            "| GPU  Name        Persistence-M| Bus-Id        Disp.A | Volatile Uncorr. ECC |\n",
            "| Fan  Temp  Perf  Pwr:Usage/Cap|         Memory-Usage | GPU-Util  Compute M. |\n",
            "|                               |                      |               MIG M. |\n",
            "|===============================+======================+======================|\n",
            "|   0  Tesla T4            Off  | 00000000:00:04.0 Off |                    0 |\n",
            "| N/A   40C    P8     9W /  70W |      0MiB / 15360MiB |      0%      Default |\n",
            "|                               |                      |                  N/A |\n",
            "+-------------------------------+----------------------+----------------------+\n",
            "                                                                               \n",
            "+-----------------------------------------------------------------------------+\n",
            "| Processes:                                                                  |\n",
            "|  GPU   GI   CI        PID   Type   Process name                  GPU Memory |\n",
            "|        ID   ID                                                   Usage      |\n",
            "|=============================================================================|\n",
            "|  No running processes found                                                 |\n",
            "+-----------------------------------------------------------------------------+\n"
          ]
        }
      ]
    },
    {
      "cell_type": "code",
      "source": [
        "import numpy as np\n",
        "from timeit import default_timer as timer\n",
        "from numba import vectorize\n",
        "\n",
        "@vectorize([\"float32(float32,float32)\"], target =\"cuda\")\n",
        "\n",
        "def multiplyVec(a,b):\n",
        "  return a*b\n",
        "\n",
        "def main():\n",
        "  n = 64000000 #size per declared array\n",
        "\n",
        "  a = np.ones(n, dtype = np.float32)\n",
        "  b = np.ones(n, dtype = np.float32)\n",
        "  c = np.ones(n, dtype = np.float32)\n",
        "\n",
        "  start = timer()\n",
        "  c = multiplyVec(a,b)\n",
        "  vecMulTime = timer() - start\n",
        "\n",
        "  print(\"c[:6] =\" + str(c[:6]))\n",
        "  print(\"c[:-6] =\" + str(c[:-6]))\n",
        "\n",
        "  print(\"This vector multiplication took %f seconds\" %vecMulTime)\n",
        "\n",
        "main()"
      ],
      "metadata": {
        "colab": {
          "base_uri": "https://localhost:8080/"
        },
        "id": "fq6HMafFQNxq",
        "outputId": "0ff6493c-a1f1-45e8-b8d2-eaada1ae685e"
      },
      "execution_count": 2,
      "outputs": [
        {
          "output_type": "stream",
          "name": "stdout",
          "text": [
            "c[:6] =[1. 1. 1. 1. 1. 1.]\n",
            "c[:-6] =[1. 1. 1. ... 1. 1. 1.]\n",
            "This vector multiplication took 0.982777 seconds\n"
          ]
        }
      ]
    },
    {
      "cell_type": "code",
      "source": [
        "import tensorflow as tf\n",
        "\n",
        "print(tf.config.list_physical_devices('GPU'))\n"
      ],
      "metadata": {
        "colab": {
          "base_uri": "https://localhost:8080/"
        },
        "id": "SiSwpYqjP6L_",
        "outputId": "455c74cd-ff41-4723-ab6a-f55f79fa7cea"
      },
      "execution_count": 3,
      "outputs": [
        {
          "output_type": "stream",
          "name": "stdout",
          "text": [
            "[PhysicalDevice(name='/physical_device:GPU:0', device_type='GPU')]\n"
          ]
        }
      ]
    }
  ]
}